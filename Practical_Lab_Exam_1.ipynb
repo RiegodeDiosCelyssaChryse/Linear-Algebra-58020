{
  "nbformat": 4,
  "nbformat_minor": 0,
  "metadata": {
    "colab": {
      "name": "Practical Lab Exam 1.ipynb",
      "provenance": [],
      "authorship_tag": "ABX9TyP/XMMO8pc0CNAMh0fv8HuR",
      "include_colab_link": true
    },
    "kernelspec": {
      "name": "python3",
      "display_name": "Python 3"
    },
    "language_info": {
      "name": "python"
    }
  },
  "cells": [
    {
      "cell_type": "markdown",
      "metadata": {
        "id": "view-in-github",
        "colab_type": "text"
      },
      "source": [
        "<a href=\"https://colab.research.google.com/github/itsmecelyssa/Linear-Algebra-58020/blob/main/Practical_Lab_Exam_1.ipynb\" target=\"_parent\"><img src=\"https://colab.research.google.com/assets/colab-badge.svg\" alt=\"Open In Colab\"/></a>"
      ]
    },
    {
      "cell_type": "markdown",
      "metadata": {
        "id": "z2F4Yqo6WUz7"
      },
      "source": [
        "## **Problem 1**"
      ]
    },
    {
      "cell_type": "code",
      "metadata": {
        "colab": {
          "base_uri": "https://localhost:8080/"
        },
        "id": "HtwgvUrfKT3G",
        "outputId": "ca97dd67-dae2-4178-8712-13f8bd543d20"
      },
      "source": [
        "import numpy as np\n",
        "W = np.array ([[1,-3],[2,-2],[3,1]])\n",
        "X = np.array ([[3,2,1],[-1,2,3],[2,-1,1]])\n",
        "Y = np.array ([[1,2,0],[0,-1,2]])\n",
        "Z = np.array ([[0,1],[2,3]])\n",
        "\n",
        "print('Vector W is' '\\n', W)\n",
        "print('Vector X is' '\\n', X)\n",
        "print('Vector Y is' '\\n', Y)\n",
        "print('Vector Z is' '\\n', Z)"
      ],
      "execution_count": 105,
      "outputs": [
        {
          "output_type": "stream",
          "name": "stdout",
          "text": [
            "Vector W is\n",
            " [[ 1 -3]\n",
            " [ 2 -2]\n",
            " [ 3  1]]\n",
            "Vector X is\n",
            " [[ 3  2  1]\n",
            " [-1  2  3]\n",
            " [ 2 -1  1]]\n",
            "Vector Y is\n",
            " [[ 1  2  0]\n",
            " [ 0 -1  2]]\n",
            "Vector Z is\n",
            " [[0 1]\n",
            " [2 3]]\n"
          ]
        }
      ]
    },
    {
      "cell_type": "code",
      "metadata": {
        "colab": {
          "base_uri": "https://localhost:8080/"
        },
        "id": "UQE0IEcXNdSt",
        "outputId": "a62a7785-9941-4c44-a502-1ab7efe1d698"
      },
      "source": [
        "W = np.array ([[1,-3],[2,-2],[3,1]])\n",
        "Y = np.array ([[1,2,0],[0,-1,2]])\n",
        "\n",
        "print('Vector W is' '\\n', W)\n",
        "print('Vector Y is' '\\n', Y)"
      ],
      "execution_count": 106,
      "outputs": [
        {
          "output_type": "stream",
          "name": "stdout",
          "text": [
            "Vector W is\n",
            " [[ 1 -3]\n",
            " [ 2 -2]\n",
            " [ 3  1]]\n",
            "Vector Y is\n",
            " [[ 1  2  0]\n",
            " [ 0 -1  2]]\n"
          ]
        }
      ]
    },
    {
      "cell_type": "code",
      "metadata": {
        "colab": {
          "base_uri": "https://localhost:8080/"
        },
        "id": "EBgEqeYjTAT8",
        "outputId": "168cc607-f699-4042-87c1-326051777561"
      },
      "source": [
        "import numpy as np\n",
        "W = np.array ([[1,-3],[2,-2],[3,1]])\n",
        "\n",
        "print('type of array :', W.dtype)\n",
        "print('shape of array :', W.shape)\n",
        "print('dimension of array :', W.ndim)"
      ],
      "execution_count": 107,
      "outputs": [
        {
          "output_type": "stream",
          "name": "stdout",
          "text": [
            "type of array : int64\n",
            "shape of array : (3, 2)\n",
            "dimension of array : 2\n"
          ]
        }
      ]
    },
    {
      "cell_type": "code",
      "metadata": {
        "colab": {
          "base_uri": "https://localhost:8080/"
        },
        "id": "0Zudh_x_TXdS",
        "outputId": "27c25edb-7d22-41e3-cd97-ce3813601d89"
      },
      "source": [
        "import numpy as np\n",
        "Y = np.array ([[1,2,0],[0,-1,2]])\n",
        "\n",
        "print('type of array :', Y.dtype)\n",
        "print('shape of array :', Y.shape)\n",
        "print('dimension of array :', Y.ndim)"
      ],
      "execution_count": 108,
      "outputs": [
        {
          "output_type": "stream",
          "name": "stdout",
          "text": [
            "type of array : int64\n",
            "shape of array : (2, 3)\n",
            "dimension of array : 2\n"
          ]
        }
      ]
    },
    {
      "cell_type": "code",
      "metadata": {
        "colab": {
          "base_uri": "https://localhost:8080/"
        },
        "id": "pm5A-ZwARnKj",
        "outputId": "e628038e-f564-4496-ef75-033f94729043"
      },
      "source": [
        "W = np.array ([[1,-3],[2,-2],[3,1]])\n",
        "print(pool.shape)\n",
        "print(pool.size)\n",
        "print(pool.ndim)"
      ],
      "execution_count": 109,
      "outputs": [
        {
          "output_type": "stream",
          "name": "stdout",
          "text": [
            "(2,)\n",
            "2\n",
            "1\n"
          ]
        }
      ]
    },
    {
      "cell_type": "code",
      "metadata": {
        "colab": {
          "base_uri": "https://localhost:8080/"
        },
        "id": "OS23yAvTR53c",
        "outputId": "a8691c56-784c-4a3f-d04c-f500a7760582"
      },
      "source": [
        "Y = np.array ([[1,2,0],[0,-1,2]])\n",
        "print(pool.shape)\n",
        "print(pool.size)\n",
        "print(pool.ndim)"
      ],
      "execution_count": 110,
      "outputs": [
        {
          "output_type": "stream",
          "name": "stdout",
          "text": [
            "(2,)\n",
            "2\n",
            "1\n"
          ]
        }
      ]
    },
    {
      "cell_type": "code",
      "metadata": {
        "colab": {
          "base_uri": "https://localhost:8080/"
        },
        "id": "HqqVMANhPmb1",
        "outputId": "6aa64d2e-032e-4735-d7b3-4d6785951bf5"
      },
      "source": [
        "output = np.dot(W,Y)\n",
        "print(output)"
      ],
      "execution_count": 111,
      "outputs": [
        {
          "output_type": "stream",
          "name": "stdout",
          "text": [
            "[[ 1  5 -6]\n",
            " [ 2  6 -4]\n",
            " [ 3  5  2]]\n"
          ]
        }
      ]
    },
    {
      "cell_type": "code",
      "metadata": {
        "colab": {
          "base_uri": "https://localhost:8080/"
        },
        "id": "uTzeOBf2NLDd",
        "outputId": "11e0c6cc-0991-4a95-8443-741b61f90f57"
      },
      "source": [
        "R = Z + Z\n",
        "print(R)"
      ],
      "execution_count": 112,
      "outputs": [
        {
          "output_type": "stream",
          "name": "stdout",
          "text": [
            "[[0 2]\n",
            " [4 6]]\n"
          ]
        }
      ]
    },
    {
      "cell_type": "code",
      "metadata": {
        "colab": {
          "base_uri": "https://localhost:8080/"
        },
        "id": "ArlUJmRJNQd9",
        "outputId": "d214c583-b8fd-448e-8b3f-f3562a15ef1a"
      },
      "source": [
        "R = np.add(Z,Z)\n",
        "R"
      ],
      "execution_count": 113,
      "outputs": [
        {
          "output_type": "execute_result",
          "data": {
            "text/plain": [
              "array([[0, 2],\n",
              "       [4, 6]])"
            ]
          },
          "metadata": {},
          "execution_count": 113
        }
      ]
    },
    {
      "cell_type": "code",
      "metadata": {
        "colab": {
          "base_uri": "https://localhost:8080/"
        },
        "id": "LfZuNsO-OT09",
        "outputId": "c70d77ce-0c12-4956-89c9-ecca07f7302f"
      },
      "source": [
        "X = np.array ([[3,2,1],[-1,2,3],[2,-1,1]])\n",
        "C = 3*X\n",
        "C"
      ],
      "execution_count": 114,
      "outputs": [
        {
          "output_type": "execute_result",
          "data": {
            "text/plain": [
              "array([[ 9,  6,  3],\n",
              "       [-3,  6,  9],\n",
              "       [ 6, -3,  3]])"
            ]
          },
          "metadata": {},
          "execution_count": 114
        }
      ]
    },
    {
      "cell_type": "markdown",
      "metadata": {
        "id": "c_XyvWgOWi-K"
      },
      "source": [
        "## **Problem 2**"
      ]
    },
    {
      "cell_type": "code",
      "metadata": {
        "colab": {
          "base_uri": "https://localhost:8080/"
        },
        "id": "3PJFgRj0WpDx",
        "outputId": "da954a55-6f06-44c6-c1b2-f1bb130473db"
      },
      "source": [
        "import numpy as np\n",
        "W = np.array ([[1,-3],[2,-2],[3,1]])\n",
        "X = np.array ([[3,2,1],[-1,2,3],[2,-1,1]])\n",
        "Y = np.array ([[1,2,0],[0,-1,2]])\n",
        "Z = np.array ([[0,1],[2,3]])\n",
        "\n",
        "print('Vector W is' '\\n', W)\n",
        "print('Vector X is' '\\n', X)\n",
        "print('Vector Y is' '\\n', Y)\n",
        "print('Vector Z is' '\\n', Z)"
      ],
      "execution_count": 115,
      "outputs": [
        {
          "output_type": "stream",
          "name": "stdout",
          "text": [
            "Vector W is\n",
            " [[ 1 -3]\n",
            " [ 2 -2]\n",
            " [ 3  1]]\n",
            "Vector X is\n",
            " [[ 3  2  1]\n",
            " [-1  2  3]\n",
            " [ 2 -1  1]]\n",
            "Vector Y is\n",
            " [[ 1  2  0]\n",
            " [ 0 -1  2]]\n",
            "Vector Z is\n",
            " [[0 1]\n",
            " [2 3]]\n"
          ]
        }
      ]
    },
    {
      "cell_type": "code",
      "metadata": {
        "colab": {
          "base_uri": "https://localhost:8080/"
        },
        "id": "lYJRE_m4bxuI",
        "outputId": "ac2fa187-6c2c-496e-f698-4544219c837d"
      },
      "source": [
        "output = np.dot(W,Y)\n",
        "print(output)"
      ],
      "execution_count": 116,
      "outputs": [
        {
          "output_type": "stream",
          "name": "stdout",
          "text": [
            "[[ 1  5 -6]\n",
            " [ 2  6 -4]\n",
            " [ 3  5  2]]\n"
          ]
        }
      ]
    },
    {
      "cell_type": "code",
      "metadata": {
        "colab": {
          "base_uri": "https://localhost:8080/"
        },
        "id": "vZqOFoWpb-Ag",
        "outputId": "a438660a-7a38-4ae5-c8ac-a02a2d68e298"
      },
      "source": [
        "print(\"Problem 2A\")\n",
        "YW = np.dot(Y,W)\n",
        "A = np.power(YW,2)\n",
        "print(A)\n",
        "print(\"False\")"
      ],
      "execution_count": 117,
      "outputs": [
        {
          "output_type": "stream",
          "name": "stdout",
          "text": [
            "Problem 2A\n",
            "[[25 49]\n",
            " [16 16]]\n",
            "False\n"
          ]
        }
      ]
    },
    {
      "cell_type": "code",
      "metadata": {
        "colab": {
          "base_uri": "https://localhost:8080/"
        },
        "id": "CPnkoQpmdj8Y",
        "outputId": "11c539f3-cce5-490b-86f8-3177ca1fce51"
      },
      "source": [
        "print(\"Problem 2B\")\n",
        "B = np.subtract(output,X)\n",
        "print(B)\n",
        "print(\"True\")"
      ],
      "execution_count": 118,
      "outputs": [
        {
          "output_type": "stream",
          "name": "stdout",
          "text": [
            "Problem 2B\n",
            "[[-2  3 -7]\n",
            " [ 3  4 -7]\n",
            " [ 1  6  1]]\n",
            "True\n"
          ]
        }
      ]
    },
    {
      "cell_type": "code",
      "metadata": {
        "colab": {
          "base_uri": "https://localhost:8080/"
        },
        "id": "q1e5JhSGdupY",
        "outputId": "cfb5ccfa-4168-46ae-eaa6-e86630baa303"
      },
      "source": [
        "print(\"Problem 2C\")\n",
        "C = np.dot(Y,W)\n",
        "L = np.subtract(C,Z^2)\n",
        "print(L)\n",
        "print(\"False\")"
      ],
      "execution_count": 119,
      "outputs": [
        {
          "output_type": "stream",
          "name": "stdout",
          "text": [
            "Problem 2C\n",
            "[[  3 -10]\n",
            " [  4   3]]\n",
            "False\n"
          ]
        }
      ]
    }
  ]
}