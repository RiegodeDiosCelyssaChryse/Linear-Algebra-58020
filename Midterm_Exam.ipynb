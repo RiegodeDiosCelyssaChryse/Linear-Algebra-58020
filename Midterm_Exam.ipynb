{
  "nbformat": 4,
  "nbformat_minor": 0,
  "metadata": {
    "colab": {
      "name": "Midterm Exam.ipynb",
      "provenance": [],
      "authorship_tag": "ABX9TyOJEJNs80ONPsBA5S3e7eZw",
      "include_colab_link": true
    },
    "kernelspec": {
      "name": "python3",
      "display_name": "Python 3"
    },
    "language_info": {
      "name": "python"
    }
  },
  "cells": [
    {
      "cell_type": "markdown",
      "metadata": {
        "id": "view-in-github",
        "colab_type": "text"
      },
      "source": [
        "<a href=\"https://colab.research.google.com/github/itsmecelyssa/Linear-Algebra-58020/blob/main/Midterm_Exam.ipynb\" target=\"_parent\"><img src=\"https://colab.research.google.com/assets/colab-badge.svg\" alt=\"Open In Colab\"/></a>"
      ]
    },
    {
      "cell_type": "markdown",
      "metadata": {
        "id": "zuPl0ZxAVrn6"
      },
      "source": [
        "#**Riego de Dios, Celyssa Chryse**"
      ]
    },
    {
      "cell_type": "markdown",
      "metadata": {
        "id": "pB2G1wZ-UyxC"
      },
      "source": [
        "##**Question 1.** Create a Python code that displays a square matrix whose length is 5 (10 points)"
      ]
    },
    {
      "cell_type": "code",
      "metadata": {
        "colab": {
          "base_uri": "https://localhost:8080/"
        },
        "id": "yC8KEOG0UtQw",
        "outputId": "d5522fd9-b76e-4a13-9b00-014005193a60"
      },
      "source": [
        "import numpy as np #Import library\n",
        "A = np.array([[1,2,3,4,5],[2,3,4,5,1],[3,4,5,1,2],[4,5,1,2,3],[5,1,2,3,4]]) #SET OF 5X5 MATRIX\n",
        "print(\"Square Matrix whose length is 5\")\n",
        "print(A)"
      ],
      "execution_count": 18,
      "outputs": [
        {
          "output_type": "stream",
          "name": "stdout",
          "text": [
            "Square Matrix whose length is 5\n",
            "[[1 2 3 4 5]\n",
            " [2 3 4 5 1]\n",
            " [3 4 5 1 2]\n",
            " [4 5 1 2 3]\n",
            " [5 1 2 3 4]]\n"
          ]
        }
      ]
    },
    {
      "cell_type": "markdown",
      "metadata": {
        "id": "QvOhpSIHVFp5"
      },
      "source": [
        "##**Question 2.** Create a Python code that displays a square matrix whose elements below the principal diagonal are zero (10 points)"
      ]
    },
    {
      "cell_type": "code",
      "metadata": {
        "colab": {
          "base_uri": "https://localhost:8080/"
        },
        "id": "NGviKWjiVF7z",
        "outputId": "43fd1fe5-6f44-4003-9bbe-45f8a6fca76c"
      },
      "source": [
        "import numpy as np \n",
        "B = np.triu([[1,2,3,4,5],[2,3,4,5,1],[3,4,5,1,2],[4,5,1,2,3],[5,1,2,3,4]])\n",
        "print(\"Square Matrix whose elements below the principal diagonal are zero\")\n",
        "print(B)"
      ],
      "execution_count": 24,
      "outputs": [
        {
          "output_type": "stream",
          "name": "stdout",
          "text": [
            "Square Matrix whose elements below the principal diagonal are zero\n",
            "[[1 2 3 4 5]\n",
            " [0 3 4 5 1]\n",
            " [0 0 5 1 2]\n",
            " [0 0 0 2 3]\n",
            " [0 0 0 0 4]]\n"
          ]
        }
      ]
    },
    {
      "cell_type": "markdown",
      "metadata": {
        "id": "p8TlQNmtVGTI"
      },
      "source": [
        "##**Question 3.** Create a Python code that displays a square matrix which is symmetrical (10 points)"
      ]
    },
    {
      "cell_type": "code",
      "metadata": {
        "colab": {
          "base_uri": "https://localhost:8080/"
        },
        "id": "WdHWn0fLVZOB",
        "outputId": "d14a6c69-0bcf-48e9-ffa8-668669617414"
      },
      "source": [
        "import numpy as np \n",
        "F = np.array([[1,2,3],[2,3,3],[3,4,-2]])\n",
        "print(\"Symmetric form of Matrix\")\n",
        "print(F)\n",
        "G = np.transpose(F)\n",
        "print(\"Transpose of the Matrix\")\n",
        "print(G)"
      ],
      "execution_count": 38,
      "outputs": [
        {
          "output_type": "stream",
          "name": "stdout",
          "text": [
            "Symmetric form of Matrix\n",
            "[[ 1  2  3]\n",
            " [ 2  3  3]\n",
            " [ 3  4 -2]]\n",
            "Transpose of the Matrix\n",
            "[[ 1  2  3]\n",
            " [ 2  3  4]\n",
            " [ 3  3 -2]]\n"
          ]
        }
      ]
    },
    {
      "cell_type": "markdown",
      "metadata": {
        "id": "JsV4AFp8VdGj"
      },
      "source": [
        "##**Question 4.** What is the inverse of matrix C? Show your solution by python coding. (20 points)"
      ]
    },
    {
      "cell_type": "code",
      "metadata": {
        "colab": {
          "base_uri": "https://localhost:8080/"
        },
        "id": "k_G-aUJIVGm5",
        "outputId": "303c7590-7c59-44b3-b19e-4ecb979bf2d0"
      },
      "source": [
        "#Python Program to Inverse a 3x3 Matrix C = ([[1,2,3],[2,3,3],[3,4,-2]])\n",
        "C = np.array([[1,2,3],[2,3,3],[3,4,-2]])\n",
        "print(C,\"\\n\")\n",
        "D = np.linalg.inv(C)\n",
        "print(D)"
      ],
      "execution_count": 20,
      "outputs": [
        {
          "output_type": "stream",
          "name": "stdout",
          "text": [
            "[[ 1  2  3]\n",
            " [ 2  3  3]\n",
            " [ 3  4 -2]] \n",
            "\n",
            "[[-3.6  3.2 -0.6]\n",
            " [ 2.6 -2.2  0.6]\n",
            " [-0.2  0.4 -0.2]]\n"
          ]
        }
      ]
    },
    {
      "cell_type": "markdown",
      "metadata": {
        "id": "TLka15tHVG7J"
      },
      "source": [
        "##**Question 5.** What is the determinant of the given matrix in Question 4? Show your solution by python coding. (20 points)"
      ]
    },
    {
      "cell_type": "code",
      "metadata": {
        "colab": {
          "base_uri": "https://localhost:8080/"
        },
        "id": "reyeV46TVHM5",
        "outputId": "fc5a410a-c8ce-45e5-93fb-e42bc283f4c5"
      },
      "source": [
        "import numpy as np\n",
        "C = np.array([[1,2,3],[2,3,3],[3,4,-2]])\n",
        "print(C,\"\\n\")\n",
        "H = np.linalg.det(C)\n",
        "print(round(H))"
      ],
      "execution_count": 40,
      "outputs": [
        {
          "output_type": "stream",
          "name": "stdout",
          "text": [
            "[[ 1  2  3]\n",
            " [ 2  3  3]\n",
            " [ 3  4 -2]] \n",
            "\n",
            "5\n"
          ]
        }
      ]
    },
    {
      "cell_type": "markdown",
      "metadata": {
        "id": "i4yfFbehVmM5"
      },
      "source": [
        "##**Question 6.** Find the roots of the linear equations by showing its python codes (30 points)"
      ]
    },
    {
      "cell_type": "code",
      "metadata": {
        "colab": {
          "base_uri": "https://localhost:8080/"
        },
        "id": "36py0JBPbytp",
        "outputId": "2dbd6889-9ca1-4d07-b990-c0624aa1739c"
      },
      "source": [
        "import numpy as np\n",
        "A = np.array([[5,4,1],[10,9,4],[10,13,15]])\n",
        "print(A,\"\\n\")\n",
        "A_ = np.linalg.inv(A)\n",
        "print(A_,\"\\n\")\n",
        "B = np.array([[3.4],[8.8],[19.2]])\n",
        "print(B,\"\\n\")\n",
        "\n",
        "AA_ = np.dot(A,A_)\n",
        "print(AA_,\"\\n\")\n",
        "BA_ = np.dot(A_,B)\n",
        "print(BA_)"
      ],
      "execution_count": 41,
      "outputs": [
        {
          "output_type": "stream",
          "name": "stdout",
          "text": [
            "[[ 5  4  1]\n",
            " [10  9  4]\n",
            " [10 13 15]] \n",
            "\n",
            "[[ 5.53333333 -3.13333333  0.46666667]\n",
            " [-7.33333333  4.33333333 -0.66666667]\n",
            " [ 2.66666667 -1.66666667  0.33333333]] \n",
            "\n",
            "[[ 3.4]\n",
            " [ 8.8]\n",
            " [19.2]] \n",
            "\n",
            "[[ 1.00000000e+00 -4.44089210e-16 -1.66533454e-16]\n",
            " [-1.77635684e-15  1.00000000e+00 -2.22044605e-16]\n",
            " [-2.22044605e-15 -1.33226763e-15  1.00000000e+00]] \n",
            "\n",
            "[[0.2]\n",
            " [0.4]\n",
            " [0.8]]\n"
          ]
        }
      ]
    }
  ]
}