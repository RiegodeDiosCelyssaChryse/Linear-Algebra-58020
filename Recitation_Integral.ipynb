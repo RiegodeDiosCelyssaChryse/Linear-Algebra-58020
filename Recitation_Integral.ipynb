{
  "nbformat": 4,
  "nbformat_minor": 0,
  "metadata": {
    "colab": {
      "name": "Recitation_Integral",
      "provenance": [],
      "authorship_tag": "ABX9TyNDkZomQE2TsApk2HBftr01",
      "include_colab_link": true
    },
    "kernelspec": {
      "name": "python3",
      "display_name": "Python 3"
    },
    "language_info": {
      "name": "python"
    }
  },
  "cells": [
    {
      "cell_type": "markdown",
      "metadata": {
        "id": "view-in-github",
        "colab_type": "text"
      },
      "source": [
        "<a href=\"https://colab.research.google.com/github/itsmecelyssa/Linear-Algebra-58020/blob/main/Recitation_Integral.ipynb\" target=\"_parent\"><img src=\"https://colab.research.google.com/assets/colab-badge.svg\" alt=\"Open In Colab\"/></a>"
      ]
    },
    {
      "cell_type": "code",
      "execution_count": 1,
      "metadata": {
        "colab": {
          "base_uri": "https://localhost:8080/"
        },
        "id": "i8t3ASzIdhaZ",
        "outputId": "28404c1a-ea92-48ad-985c-7ecae8225a91"
      },
      "outputs": [
        {
          "output_type": "stream",
          "name": "stdout",
          "text": [
            "Integral = 1.6005\n"
          ]
        }
      ],
      "source": [
        "def f(x):\n",
        "   return(0.2 + 25*x - (200*x**2) + (675*x**3) - (900*x**4) + (400*x**5))\n",
        "\n",
        "a = 0\n",
        "b = 0.8\n",
        "n = 10\n",
        "h = (b-a)/n\n",
        "S = h * (f(a)+f(b))\n",
        "\n",
        "for i in range (1,n):\n",
        "  S+=f(a+i*h)\n",
        "\n",
        "Integral = h*S\n",
        "\n",
        "print('Integral = %0.4f' %Integral)"
      ]
    }
  ]
}