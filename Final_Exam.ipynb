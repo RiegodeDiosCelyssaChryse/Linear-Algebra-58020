{
  "nbformat": 4,
  "nbformat_minor": 0,
  "metadata": {
    "colab": {
      "name": "Final Exam.ipynb",
      "provenance": [],
      "authorship_tag": "ABX9TyMjFovzBGBsZgc5ietKh0sx",
      "include_colab_link": true
    },
    "kernelspec": {
      "name": "python3",
      "display_name": "Python 3"
    },
    "language_info": {
      "name": "python"
    }
  },
  "cells": [
    {
      "cell_type": "markdown",
      "metadata": {
        "id": "view-in-github",
        "colab_type": "text"
      },
      "source": [
        "<a href=\"https://colab.research.google.com/github/itsmecelyssa/Linear-Algebra-58020/blob/main/Final_Exam.ipynb\" target=\"_parent\"><img src=\"https://colab.research.google.com/assets/colab-badge.svg\" alt=\"Open In Colab\"/></a>"
      ]
    },
    {
      "cell_type": "markdown",
      "source": [
        "#**Final Exam**"
      ],
      "metadata": {
        "id": "P19fdMPAiEy9"
      }
    },
    {
      "cell_type": "markdown",
      "source": [
        "##**Problem 1. Student A, Student B, and Student C have a total of Php 89 cash in their banks. Student A has 6 less than Student C. Student B has 3 times what Student C has. How much does each student have? (30 points)**"
      ],
      "metadata": {
        "id": "BADgkA2Gj6GT"
      }
    },
    {
      "cell_type": "code",
      "source": [
        "import numpy as np\n",
        "A = np.array([[1, 1, 1],[1, 0, 4],[0, 0, 5]])\n",
        "print(f'Matrix A:\\n {A}')\n",
        "print()\n",
        "B = np.array([[89],[89],[95]])\n",
        "print(f'Matrix A:\\n {A}')\n",
        "C = np.linalg.inv(A).dot(B)\n",
        "print(f'\\nInverse of Matrix A:\\n{C}')"
      ],
      "metadata": {
        "colab": {
          "base_uri": "https://localhost:8080/"
        },
        "id": "Nh14hQsF0ZjU",
        "outputId": "8b57fe77-4288-45af-c1ac-fb6251ffc147"
      },
      "execution_count": 24,
      "outputs": [
        {
          "output_type": "stream",
          "name": "stdout",
          "text": [
            "Matrix A:\n",
            " [[1 1 1]\n",
            " [1 0 4]\n",
            " [0 0 5]]\n",
            "\n",
            "Matrix A:\n",
            " [[1 1 1]\n",
            " [1 0 4]\n",
            " [0 0 5]]\n",
            "\n",
            "Inverse of Matrix A:\n",
            "[[13.]\n",
            " [57.]\n",
            " [19.]]\n"
          ]
        }
      ]
    },
    {
      "cell_type": "markdown",
      "source": [
        "##**Problem 2. Solve each system: (30 points)**"
      ],
      "metadata": {
        "id": "wvP6kEkykDDT"
      }
    },
    {
      "cell_type": "code",
      "source": [
        "A = np.array([[3,-1,1],[9,-3,3],[-12,4,-4]])\n",
        "print(A)\n",
        "B = np.array([[5],[15],[-20]])\n",
        "print(B)\n",
        "\n",
        "#Compute the pseudo inverse of A\n",
        "#Computationally intensive for large problems\n",
        "Apinv = np.linalg.pinv(A)\n",
        "\n",
        "#Apply the pseudo-inverse to the rhs\n",
        "#Vector to obtain the `solution'\n",
        "x = Apinv.dot(B)\n",
        "print(x)"
      ],
      "metadata": {
        "colab": {
          "base_uri": "https://localhost:8080/"
        },
        "id": "eCXEVT9QkEcj",
        "outputId": "0c7f7da4-f1c4-42a6-a6ee-cb4ffdf41905"
      },
      "execution_count": 25,
      "outputs": [
        {
          "output_type": "stream",
          "name": "stdout",
          "text": [
            "[[  3  -1   1]\n",
            " [  9  -3   3]\n",
            " [-12   4  -4]]\n",
            "[[  5]\n",
            " [ 15]\n",
            " [-20]]\n",
            "[[ 1.36363636]\n",
            " [-0.45454545]\n",
            " [ 0.45454545]]\n"
          ]
        }
      ]
    },
    {
      "cell_type": "markdown",
      "source": [
        "##**Problem 3. Consider the matrix, (40 points)**"
      ],
      "metadata": {
        "id": "VmsLsvywkE5L"
      }
    },
    {
      "cell_type": "code",
      "source": [
        "import numpy as np\n",
        "from numpy.linalg import eig\n",
        "A = np.array([[8,5,-6],[-12,-9,12],[-3,-3,5]])\n",
        "print(A)\n",
        "\n",
        "w,v = np.linalg.eig(A) \n",
        "print(\"The eigenvalue/s is/are:\\n\",w.round())\n",
        "print(\"The eigenvector/s is/are:\\n\",v.round())"
      ],
      "metadata": {
        "colab": {
          "base_uri": "https://localhost:8080/"
        },
        "id": "41LsewYBohyr",
        "outputId": "db1694f0-513c-48cc-e8b4-2f67dc29dfbe"
      },
      "execution_count": 26,
      "outputs": [
        {
          "output_type": "stream",
          "name": "stdout",
          "text": [
            "[[  8   5  -6]\n",
            " [-12  -9  12]\n",
            " [ -3  -3   5]]\n",
            "The eigenvalue/s is/are:\n",
            " [-1.  3.  2.]\n",
            "The eigenvector/s is/are:\n",
            " [[ 0. -1.  1.]\n",
            " [-1.  1.  0.]\n",
            " [-0. -0.  1.]]\n"
          ]
        }
      ]
    }
  ]
}