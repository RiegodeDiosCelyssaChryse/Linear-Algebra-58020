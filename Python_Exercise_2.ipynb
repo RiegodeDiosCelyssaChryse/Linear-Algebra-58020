{
  "nbformat": 4,
  "nbformat_minor": 0,
  "metadata": {
    "colab": {
      "name": "Python Exercise 2.ipynb",
      "provenance": [],
      "authorship_tag": "ABX9TyM805zHfQIwL9MncUapq7ES",
      "include_colab_link": true
    },
    "kernelspec": {
      "name": "python3",
      "display_name": "Python 3"
    },
    "language_info": {
      "name": "python"
    }
  },
  "cells": [
    {
      "cell_type": "markdown",
      "metadata": {
        "id": "view-in-github",
        "colab_type": "text"
      },
      "source": [
        "<a href=\"https://colab.research.google.com/github/itsmecelyssa/Linear-Algebra-58020/blob/main/Python_Exercise_2.ipynb\" target=\"_parent\"><img src=\"https://colab.research.google.com/assets/colab-badge.svg\" alt=\"Open In Colab\"/></a>"
      ]
    },
    {
      "cell_type": "markdown",
      "metadata": {
        "id": "vJfE2MUkFvTq"
      },
      "source": [
        "# **Vector Spaces and Its Operations**"
      ]
    },
    {
      "cell_type": "code",
      "metadata": {
        "colab": {
          "base_uri": "https://localhost:8080/"
        },
        "id": "RuRP9TG0ElVw",
        "outputId": "955b9b3b-8746-472f-bd08-24c88590c722"
      },
      "source": [
        "import numpy as np\n",
        "A = np.array ([4,3])\n",
        "B = np.array ([2,-5])\n",
        "\n",
        "print('Vector A is', A)\n",
        "print('Vector B is', B)"
      ],
      "execution_count": 57,
      "outputs": [
        {
          "output_type": "stream",
          "name": "stdout",
          "text": [
            "Vector A is [4 3]\n",
            "Vector B is [ 2 -5]\n"
          ]
        }
      ]
    },
    {
      "cell_type": "code",
      "metadata": {
        "colab": {
          "base_uri": "https://localhost:8080/"
        },
        "id": "tYL5SwPTF29R",
        "outputId": "48078f54-28a1-408c-d6fc-e3f2a79b283d"
      },
      "source": [
        "import numpy as np\n",
        "ball1 = np.array ([1,2,3])\n",
        "ball2 = np.array ([0,1,-1])\n",
        "pool = np.array ([ball1,ball2])\n",
        "pool.shape"
      ],
      "execution_count": 58,
      "outputs": [
        {
          "output_type": "execute_result",
          "data": {
            "text/plain": [
              "(2, 3)"
            ]
          },
          "metadata": {},
          "execution_count": 58
        }
      ]
    },
    {
      "cell_type": "code",
      "metadata": {
        "colab": {
          "base_uri": "https://localhost:8080/"
        },
        "id": "ld39KaklLLBZ",
        "outputId": "aade30ad-5e22-4579-95a6-fca79b218b2a"
      },
      "source": [
        "import numpy as np\n",
        "ball1 = np.array ([1,2,3])\n",
        "ball2 = np.array ([0,1,-1])\n",
        "pool = np.array ([ball1,ball2])\n",
        "print(pool.shape)\n",
        "print(pool.size)"
      ],
      "execution_count": 59,
      "outputs": [
        {
          "output_type": "stream",
          "name": "stdout",
          "text": [
            "(2, 3)\n",
            "6\n"
          ]
        }
      ]
    },
    {
      "cell_type": "code",
      "metadata": {
        "colab": {
          "base_uri": "https://localhost:8080/"
        },
        "id": "06s_eomdGrtS",
        "outputId": "e16cc44f-b852-471c-c9fd-ffe2ff3bb76b"
      },
      "source": [
        "import numpy as np\n",
        "ball1 = np.array ([1,2,3])\n",
        "ball2 = np.array ([0,1,-1])\n",
        "pool = np.array ([ball1,ball2])\n",
        "pool.shape\n",
        "pool.ndim"
      ],
      "execution_count": 60,
      "outputs": [
        {
          "output_type": "execute_result",
          "data": {
            "text/plain": [
              "2"
            ]
          },
          "metadata": {},
          "execution_count": 60
        }
      ]
    },
    {
      "cell_type": "code",
      "metadata": {
        "colab": {
          "base_uri": "https://localhost:8080/"
        },
        "id": "YlHJxhy3G1OS",
        "outputId": "cd758d5f-0a0f-4425-fcc9-ecb3a65a8782"
      },
      "source": [
        "U = np.array ([[1,2,3,],[4,5,6]])\n",
        "U"
      ],
      "execution_count": 61,
      "outputs": [
        {
          "output_type": "execute_result",
          "data": {
            "text/plain": [
              "array([[1, 2, 3],\n",
              "       [4, 5, 6]])"
            ]
          },
          "metadata": {},
          "execution_count": 61
        }
      ]
    },
    {
      "cell_type": "code",
      "metadata": {
        "colab": {
          "base_uri": "https://localhost:8080/"
        },
        "id": "WA2euXnnG9TR",
        "outputId": "9e2011d8-e85b-40b3-a727-75b8d1685124"
      },
      "source": [
        "U = np.array ([[1,2,3,],[4,5,6]])\n",
        "U.shape"
      ],
      "execution_count": 62,
      "outputs": [
        {
          "output_type": "execute_result",
          "data": {
            "text/plain": [
              "(2, 3)"
            ]
          },
          "metadata": {},
          "execution_count": 62
        }
      ]
    },
    {
      "cell_type": "code",
      "metadata": {
        "colab": {
          "base_uri": "https://localhost:8080/"
        },
        "id": "HLq0mEClHC-J",
        "outputId": "a4628ced-bf99-4aa0-8177-c5e3a58a425b"
      },
      "source": [
        "U = np.array ([[1,2,3,],[4,5,6]])\n",
        "U.ndim"
      ],
      "execution_count": 63,
      "outputs": [
        {
          "output_type": "execute_result",
          "data": {
            "text/plain": [
              "2"
            ]
          },
          "metadata": {},
          "execution_count": 63
        }
      ]
    },
    {
      "cell_type": "code",
      "metadata": {
        "colab": {
          "base_uri": "https://localhost:8080/"
        },
        "id": "NR3I7lZyHFrR",
        "outputId": "142c9591-7c0c-4717-b32c-d3b9e8e0b9ea"
      },
      "source": [
        "U = np.array ([[1,2,3,],[4,5,6]])\n",
        "U.size"
      ],
      "execution_count": 64,
      "outputs": [
        {
          "output_type": "execute_result",
          "data": {
            "text/plain": [
              "6"
            ]
          },
          "metadata": {},
          "execution_count": 64
        }
      ]
    },
    {
      "cell_type": "code",
      "metadata": {
        "colab": {
          "base_uri": "https://localhost:8080/"
        },
        "id": "BRuz5UdJHH5x",
        "outputId": "4143602d-c266-45ea-ddf8-f54982816649"
      },
      "source": [
        "U = np.array ([[1,2,3,],[4,5,6]])\n",
        "U\n",
        "U.size"
      ],
      "execution_count": 65,
      "outputs": [
        {
          "output_type": "execute_result",
          "data": {
            "text/plain": [
              "6"
            ]
          },
          "metadata": {},
          "execution_count": 65
        }
      ]
    },
    {
      "cell_type": "markdown",
      "metadata": {
        "id": "4MvZcU4_HecR"
      },
      "source": [
        "# **Addition of Vectors**"
      ]
    },
    {
      "cell_type": "code",
      "metadata": {
        "colab": {
          "base_uri": "https://localhost:8080/"
        },
        "id": "RM2HzbG4OnYZ",
        "outputId": "3a10467d-c736-4671-b09e-858351cee255"
      },
      "source": [
        "import numpy as np\n",
        "A = np.array ([4,3])\n",
        "B = np.array ([2,-5])\n",
        "\n",
        "print('Vector A is', A)\n",
        "print('Vector B is', B)"
      ],
      "execution_count": 66,
      "outputs": [
        {
          "output_type": "stream",
          "name": "stdout",
          "text": [
            "Vector A is [4 3]\n",
            "Vector B is [ 2 -5]\n"
          ]
        }
      ]
    },
    {
      "cell_type": "code",
      "metadata": {
        "colab": {
          "base_uri": "https://localhost:8080/"
        },
        "id": "z43evKAWOoeK",
        "outputId": "1a31ccbe-c149-4d2d-dd0c-5838e410484f"
      },
      "source": [
        "R = np.add(A,B)\n",
        "R"
      ],
      "execution_count": 67,
      "outputs": [
        {
          "output_type": "execute_result",
          "data": {
            "text/plain": [
              "array([ 6, -2])"
            ]
          },
          "metadata": {},
          "execution_count": 67
        }
      ]
    },
    {
      "cell_type": "code",
      "metadata": {
        "colab": {
          "base_uri": "https://localhost:8080/"
        },
        "id": "3WJehnawHj_B",
        "outputId": "84850453-30e3-41c6-99c9-2f052d7af251"
      },
      "source": [
        "addend1 = np.array([0,0,0])\n",
        "addend2 = np.array([1,1,0])\n",
        "sum = addend1 + addend2\n",
        "sum"
      ],
      "execution_count": 68,
      "outputs": [
        {
          "output_type": "execute_result",
          "data": {
            "text/plain": [
              "array([1, 1, 0])"
            ]
          },
          "metadata": {},
          "execution_count": 68
        }
      ]
    },
    {
      "cell_type": "code",
      "metadata": {
        "colab": {
          "base_uri": "https://localhost:8080/"
        },
        "id": "rh--f4APIG6C",
        "outputId": "6e70175e-85d5-4f2d-98dc-a80216866531"
      },
      "source": [
        "addend1 = np.array([0,0,0])\n",
        "addend2 = np.array([1,1,0])\n",
        "resultant = addend1 + addend2\n",
        "resultant"
      ],
      "execution_count": 69,
      "outputs": [
        {
          "output_type": "execute_result",
          "data": {
            "text/plain": [
              "array([1, 1, 0])"
            ]
          },
          "metadata": {},
          "execution_count": 69
        }
      ]
    },
    {
      "cell_type": "markdown",
      "metadata": {
        "id": "g4DbLMWdJVUj"
      },
      "source": [
        "# **Subtraction of Vector**"
      ]
    },
    {
      "cell_type": "code",
      "metadata": {
        "colab": {
          "base_uri": "https://localhost:8080/"
        },
        "id": "xYaETQ4EOjwB",
        "outputId": "6046af1e-ebbf-41ed-a71f-3575c8d4226b"
      },
      "source": [
        "import numpy as np\n",
        "A = np.array ([4,3])\n",
        "B = np.array ([2,-5])\n",
        "\n",
        "print('Vector A is', A)\n",
        "print('Vector B is', B)"
      ],
      "execution_count": 70,
      "outputs": [
        {
          "output_type": "stream",
          "name": "stdout",
          "text": [
            "Vector A is [4 3]\n",
            "Vector B is [ 2 -5]\n"
          ]
        }
      ]
    },
    {
      "cell_type": "code",
      "metadata": {
        "colab": {
          "base_uri": "https://localhost:8080/"
        },
        "id": "2b5HqtlOMGoy",
        "outputId": "b766f008-9e4b-4ac9-f640-eadf69e84384"
      },
      "source": [
        "R = np.subtract(A,B)\n",
        "R"
      ],
      "execution_count": 71,
      "outputs": [
        {
          "output_type": "execute_result",
          "data": {
            "text/plain": [
              "array([2, 8])"
            ]
          },
          "metadata": {},
          "execution_count": 71
        }
      ]
    },
    {
      "cell_type": "code",
      "metadata": {
        "colab": {
          "base_uri": "https://localhost:8080/"
        },
        "id": "eiLZTtj9INri",
        "outputId": "5dd8eb90-eb0e-41d7-f248-02bd97380a1f"
      },
      "source": [
        "#You will substract the components of addend2 from addend1 : addentd - addend2\n",
        "difference = addend1 - addend2\n",
        "difference"
      ],
      "execution_count": 72,
      "outputs": [
        {
          "output_type": "execute_result",
          "data": {
            "text/plain": [
              "array([-1, -1,  0])"
            ]
          },
          "metadata": {},
          "execution_count": 72
        }
      ]
    },
    {
      "cell_type": "code",
      "metadata": {
        "colab": {
          "base_uri": "https://localhost:8080/"
        },
        "id": "2q7Pm4jjIvZS",
        "outputId": "6a730055-1f5f-453f-dde3-dd14b1d59425"
      },
      "source": [
        "difference2 = np.subtract(addend1,addend2)\n",
        "difference2"
      ],
      "execution_count": 73,
      "outputs": [
        {
          "output_type": "execute_result",
          "data": {
            "text/plain": [
              "array([-1, -1,  0])"
            ]
          },
          "metadata": {},
          "execution_count": 73
        }
      ]
    },
    {
      "cell_type": "markdown",
      "metadata": {
        "id": "xwY24SwmJojB"
      },
      "source": [
        "# **Scaling**"
      ]
    },
    {
      "cell_type": "code",
      "metadata": {
        "colab": {
          "base_uri": "https://localhost:8080/"
        },
        "id": "LDGsx-YHJdWR",
        "outputId": "d2f52617-cbf9-45fd-c3e3-33df26df5578"
      },
      "source": [
        "A = np.array([1,5,8,9])\n",
        "S = 5*A\n",
        "S"
      ],
      "execution_count": 74,
      "outputs": [
        {
          "output_type": "execute_result",
          "data": {
            "text/plain": [
              "array([ 5, 25, 40, 45])"
            ]
          },
          "metadata": {},
          "execution_count": 74
        }
      ]
    },
    {
      "cell_type": "code",
      "metadata": {
        "id": "vZbpYZcfOLRQ"
      },
      "source": [
        ""
      ],
      "execution_count": 74,
      "outputs": []
    },
    {
      "cell_type": "markdown",
      "metadata": {
        "id": "440YvEqHKHf4"
      },
      "source": [
        "# **Vector Cross Product**"
      ]
    },
    {
      "cell_type": "code",
      "metadata": {
        "colab": {
          "base_uri": "https://localhost:8080/"
        },
        "id": "8i1BaV1AO_Nc",
        "outputId": "dd098234-e2f8-48a8-afc0-6e8ad86876d7"
      },
      "source": [
        "import numpy as np\n",
        "#initialize arrays\n",
        "\n",
        "A = np.array([2,3])\n",
        "B = np.array([1,7])\n",
        "#Compute the cross product\n",
        "#(2x7),(3,1) = (14-3) = 11\n",
        "output = np.cross(A,B)\n",
        "print(output)"
      ],
      "execution_count": 75,
      "outputs": [
        {
          "output_type": "stream",
          "name": "stdout",
          "text": [
            "11\n"
          ]
        }
      ]
    },
    {
      "cell_type": "code",
      "metadata": {
        "colab": {
          "base_uri": "https://localhost:8080/"
        },
        "id": "PtyAZO7zJslC",
        "outputId": "de0ff0a6-61a4-4289-c2f1-cfc04bf08f61"
      },
      "source": [
        "A = np.array([2,3])\n",
        "B = np.array([1,7])\n",
        "\n",
        "#Compute the cross product of A and B\n",
        "cross = np.cross(A,B)\n",
        "print(cross)"
      ],
      "execution_count": 76,
      "outputs": [
        {
          "output_type": "stream",
          "name": "stdout",
          "text": [
            "11\n"
          ]
        }
      ]
    },
    {
      "cell_type": "code",
      "metadata": {
        "colab": {
          "base_uri": "https://localhost:8080/"
        },
        "id": "JcZS_a_iKQHQ",
        "outputId": "16ca9d59-18e4-4515-dfbf-df9b34e27706"
      },
      "source": [
        "A = np.array([2,3,4])\n",
        "B = np.array([1,7,0])\n",
        "\n",
        "#Compute the cross product of A and B\n",
        "cross = np.cross(A,B)\n",
        "print(cross)"
      ],
      "execution_count": 77,
      "outputs": [
        {
          "output_type": "stream",
          "name": "stdout",
          "text": [
            "[-28   4  11]\n"
          ]
        }
      ]
    },
    {
      "cell_type": "code",
      "metadata": {
        "colab": {
          "base_uri": "https://localhost:8080/"
        },
        "id": "HXIgkwUYQfDC",
        "outputId": "ab4692da-cbab-4040-ce99-57a297ec22c2"
      },
      "source": [
        "output = np.dot(A,B) #comput the dot product\n",
        "print(output) #(2x1) = 2 (3x7)= 21 (4x0)= 0"
      ],
      "execution_count": 78,
      "outputs": [
        {
          "output_type": "stream",
          "name": "stdout",
          "text": [
            "23\n"
          ]
        }
      ]
    },
    {
      "cell_type": "code",
      "metadata": {
        "colab": {
          "base_uri": "https://localhost:8080/"
        },
        "id": "w4dQgwjsQ9Xi",
        "outputId": "fcc9df1c-5d05-4945-bc82-05294640e10f"
      },
      "source": [
        "A = np.array([2,7])\n",
        "B = np.array([1,7])\n",
        "\n",
        "output = np.cross(A,B)\n",
        "print(output)"
      ],
      "execution_count": 79,
      "outputs": [
        {
          "output_type": "stream",
          "name": "stdout",
          "text": [
            "7\n"
          ]
        }
      ]
    },
    {
      "cell_type": "code",
      "metadata": {
        "colab": {
          "base_uri": "https://localhost:8080/"
        },
        "id": "y4t5CLobRGoA",
        "outputId": "639f89ff-4c3b-493c-fc7e-f1f213f117cf"
      },
      "source": [
        "output = np.dot(A,B) #compute the dot product\n",
        "print(output)"
      ],
      "execution_count": 80,
      "outputs": [
        {
          "output_type": "stream",
          "name": "stdout",
          "text": [
            "51\n"
          ]
        }
      ]
    },
    {
      "cell_type": "code",
      "metadata": {
        "colab": {
          "base_uri": "https://localhost:8080/"
        },
        "id": "uR6wyh-0Kx2x",
        "outputId": "7845a007-2b59-4b80-d8e6-c9cbfa03c780"
      },
      "source": [
        "import numpy as np\n",
        "A = np.array([2,3])\n",
        "B = np.array([1,7])\n",
        "\n",
        "#Compute the dot product of A and B\n",
        "dot = np.dot(A,B)\n",
        "print(dot)"
      ],
      "execution_count": 81,
      "outputs": [
        {
          "output_type": "stream",
          "name": "stdout",
          "text": [
            "23\n"
          ]
        }
      ]
    }
  ]
}