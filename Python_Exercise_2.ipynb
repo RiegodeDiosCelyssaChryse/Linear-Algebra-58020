{
  "nbformat": 4,
  "nbformat_minor": 0,
  "metadata": {
    "colab": {
      "name": "Python Exercise 2.ipynb",
      "provenance": [],
      "authorship_tag": "ABX9TyM5orwjTYQNYMdV+0k8/bGz",
      "include_colab_link": true
    },
    "kernelspec": {
      "name": "python3",
      "display_name": "Python 3"
    },
    "language_info": {
      "name": "python"
    }
  },
  "cells": [
    {
      "cell_type": "markdown",
      "metadata": {
        "id": "view-in-github",
        "colab_type": "text"
      },
      "source": [
        "<a href=\"https://colab.research.google.com/github/itsmecelyssa/Linear-Algebra-58020/blob/main/Python_Exercise_2.ipynb\" target=\"_parent\"><img src=\"https://colab.research.google.com/assets/colab-badge.svg\" alt=\"Open In Colab\"/></a>"
      ]
    },
    {
      "cell_type": "markdown",
      "metadata": {
        "id": "vJfE2MUkFvTq"
      },
      "source": [
        "# **Vector Spaces and Its Operations**"
      ]
    },
    {
      "cell_type": "code",
      "metadata": {
        "colab": {
          "base_uri": "https://localhost:8080/"
        },
        "id": "RuRP9TG0ElVw",
        "outputId": "2fd0c60e-d55b-4ce3-972a-3f7aef998596"
      },
      "source": [
        "import numpy as np\n",
        "A = np.array ([4,3])\n",
        "B = np.array ([2,-5])\n",
        "\n",
        "print('Vector A is', A)\n",
        "print('Vector B is', B)"
      ],
      "execution_count": 84,
      "outputs": [
        {
          "output_type": "stream",
          "name": "stdout",
          "text": [
            "Vector A is [4 3]\n",
            "Vector B is [ 2 -5]\n"
          ]
        }
      ]
    },
    {
      "cell_type": "code",
      "metadata": {
        "colab": {
          "base_uri": "https://localhost:8080/"
        },
        "id": "tYL5SwPTF29R",
        "outputId": "5f11e0da-e567-457e-dec1-b21337fbf5b9"
      },
      "source": [
        "import numpy as np\n",
        "ball1 = np.array ([1,2,3])\n",
        "ball2 = np.array ([0,1,-1])\n",
        "pool = np.array ([ball1,ball2])\n",
        "pool.shape"
      ],
      "execution_count": 85,
      "outputs": [
        {
          "output_type": "execute_result",
          "data": {
            "text/plain": [
              "(2, 3)"
            ]
          },
          "metadata": {},
          "execution_count": 85
        }
      ]
    },
    {
      "cell_type": "code",
      "metadata": {
        "colab": {
          "base_uri": "https://localhost:8080/"
        },
        "id": "ld39KaklLLBZ",
        "outputId": "1f6945c6-4e60-4bbc-a7f0-7ca980172cd8"
      },
      "source": [
        "import numpy as np\n",
        "ball1 = np.array ([1,2,3])\n",
        "ball2 = np.array ([0,1,-1])\n",
        "pool = np.array ([ball1,ball2])\n",
        "print(pool.shape)\n",
        "print(pool.size)"
      ],
      "execution_count": 86,
      "outputs": [
        {
          "output_type": "stream",
          "name": "stdout",
          "text": [
            "(2, 3)\n",
            "6\n"
          ]
        }
      ]
    },
    {
      "cell_type": "code",
      "metadata": {
        "colab": {
          "base_uri": "https://localhost:8080/"
        },
        "id": "06s_eomdGrtS",
        "outputId": "8b070627-92a0-47d1-d6c3-bc6589ba0f1b"
      },
      "source": [
        "import numpy as np\n",
        "ball1 = np.array ([1,2,3])\n",
        "ball2 = np.array ([0,1,-1])\n",
        "pool = np.array ([ball1,ball2])\n",
        "pool.shape\n",
        "pool.ndim"
      ],
      "execution_count": 87,
      "outputs": [
        {
          "output_type": "execute_result",
          "data": {
            "text/plain": [
              "2"
            ]
          },
          "metadata": {},
          "execution_count": 87
        }
      ]
    },
    {
      "cell_type": "code",
      "metadata": {
        "colab": {
          "base_uri": "https://localhost:8080/"
        },
        "id": "YlHJxhy3G1OS",
        "outputId": "db9ae5d4-7971-49d6-af5c-bd80271ed55f"
      },
      "source": [
        "U = np.array ([[1,2,3,],[4,5,6]])\n",
        "U"
      ],
      "execution_count": 88,
      "outputs": [
        {
          "output_type": "execute_result",
          "data": {
            "text/plain": [
              "array([[1, 2, 3],\n",
              "       [4, 5, 6]])"
            ]
          },
          "metadata": {},
          "execution_count": 88
        }
      ]
    },
    {
      "cell_type": "code",
      "metadata": {
        "colab": {
          "base_uri": "https://localhost:8080/"
        },
        "id": "WA2euXnnG9TR",
        "outputId": "3e1a12df-ce26-48f2-fc66-a87a9193630b"
      },
      "source": [
        "U = np.array ([[1,2,3,],[4,5,6]])\n",
        "U.shape"
      ],
      "execution_count": 89,
      "outputs": [
        {
          "output_type": "execute_result",
          "data": {
            "text/plain": [
              "(2, 3)"
            ]
          },
          "metadata": {},
          "execution_count": 89
        }
      ]
    },
    {
      "cell_type": "code",
      "metadata": {
        "colab": {
          "base_uri": "https://localhost:8080/"
        },
        "id": "HLq0mEClHC-J",
        "outputId": "bcea3bad-ee26-40ef-dc69-4a64622a2e8b"
      },
      "source": [
        "U = np.array ([[1,2,3,],[4,5,6]])\n",
        "U.ndim"
      ],
      "execution_count": 90,
      "outputs": [
        {
          "output_type": "execute_result",
          "data": {
            "text/plain": [
              "2"
            ]
          },
          "metadata": {},
          "execution_count": 90
        }
      ]
    },
    {
      "cell_type": "code",
      "metadata": {
        "colab": {
          "base_uri": "https://localhost:8080/"
        },
        "id": "NR3I7lZyHFrR",
        "outputId": "12c91652-03ff-4d75-d1d5-b47f61ebdfe2"
      },
      "source": [
        "U = np.array ([[1,2,3,],[4,5,6]])\n",
        "U.size"
      ],
      "execution_count": 91,
      "outputs": [
        {
          "output_type": "execute_result",
          "data": {
            "text/plain": [
              "6"
            ]
          },
          "metadata": {},
          "execution_count": 91
        }
      ]
    },
    {
      "cell_type": "code",
      "metadata": {
        "colab": {
          "base_uri": "https://localhost:8080/"
        },
        "id": "BRuz5UdJHH5x",
        "outputId": "2b583727-6683-4838-a0ba-e995c765a9b3"
      },
      "source": [
        "U = np.array ([[1,2,3,],[4,5,6]])\n",
        "U\n",
        "U.size"
      ],
      "execution_count": 92,
      "outputs": [
        {
          "output_type": "execute_result",
          "data": {
            "text/plain": [
              "6"
            ]
          },
          "metadata": {},
          "execution_count": 92
        }
      ]
    },
    {
      "cell_type": "markdown",
      "metadata": {
        "id": "4MvZcU4_HecR"
      },
      "source": [
        "# **Addition of Vectors**"
      ]
    },
    {
      "cell_type": "code",
      "metadata": {
        "colab": {
          "base_uri": "https://localhost:8080/"
        },
        "id": "RM2HzbG4OnYZ",
        "outputId": "29127647-7701-439a-df36-861dc7b89813"
      },
      "source": [
        "import numpy as np\n",
        "A = np.array ([4,3])\n",
        "B = np.array ([2,-5])\n",
        "\n",
        "print('Vector A is', A)\n",
        "print('Vector B is', B)"
      ],
      "execution_count": 93,
      "outputs": [
        {
          "output_type": "stream",
          "name": "stdout",
          "text": [
            "Vector A is [4 3]\n",
            "Vector B is [ 2 -5]\n"
          ]
        }
      ]
    },
    {
      "cell_type": "code",
      "metadata": {
        "colab": {
          "base_uri": "https://localhost:8080/"
        },
        "id": "z43evKAWOoeK",
        "outputId": "232fe53d-8729-4106-863b-988f597e4d15"
      },
      "source": [
        "R = np.add(A,B)\n",
        "R"
      ],
      "execution_count": 94,
      "outputs": [
        {
          "output_type": "execute_result",
          "data": {
            "text/plain": [
              "array([ 6, -2])"
            ]
          },
          "metadata": {},
          "execution_count": 94
        }
      ]
    },
    {
      "cell_type": "code",
      "metadata": {
        "colab": {
          "base_uri": "https://localhost:8080/"
        },
        "id": "3WJehnawHj_B",
        "outputId": "9dfb2826-0972-46ba-dc6d-572be1b9a22e"
      },
      "source": [
        "addend1 = np.array([0,0,0])\n",
        "addend2 = np.array([1,1,0])\n",
        "sum = addend1 + addend2\n",
        "sum"
      ],
      "execution_count": 95,
      "outputs": [
        {
          "output_type": "execute_result",
          "data": {
            "text/plain": [
              "array([1, 1, 0])"
            ]
          },
          "metadata": {},
          "execution_count": 95
        }
      ]
    },
    {
      "cell_type": "code",
      "metadata": {
        "colab": {
          "base_uri": "https://localhost:8080/"
        },
        "id": "rh--f4APIG6C",
        "outputId": "3fd2420d-d0c6-4a0a-b66a-b8da690f762d"
      },
      "source": [
        "addend1 = np.array([0,0,0])\n",
        "addend2 = np.array([1,1,0])\n",
        "resultant = addend1 + addend2\n",
        "resultant"
      ],
      "execution_count": 96,
      "outputs": [
        {
          "output_type": "execute_result",
          "data": {
            "text/plain": [
              "array([1, 1, 0])"
            ]
          },
          "metadata": {},
          "execution_count": 96
        }
      ]
    },
    {
      "cell_type": "markdown",
      "metadata": {
        "id": "g4DbLMWdJVUj"
      },
      "source": [
        "# **Subtraction of Vector**"
      ]
    },
    {
      "cell_type": "code",
      "metadata": {
        "colab": {
          "base_uri": "https://localhost:8080/"
        },
        "id": "xYaETQ4EOjwB",
        "outputId": "2da2c854-7868-437b-8538-3a1b6a00f3eb"
      },
      "source": [
        "import numpy as np\n",
        "A = np.array ([4,3])\n",
        "B = np.array ([2,-5])\n",
        "\n",
        "print('Vector A is', A)\n",
        "print('Vector B is', B)"
      ],
      "execution_count": 97,
      "outputs": [
        {
          "output_type": "stream",
          "name": "stdout",
          "text": [
            "Vector A is [4 3]\n",
            "Vector B is [ 2 -5]\n"
          ]
        }
      ]
    },
    {
      "cell_type": "code",
      "metadata": {
        "colab": {
          "base_uri": "https://localhost:8080/"
        },
        "id": "2b5HqtlOMGoy",
        "outputId": "d417eb5d-e064-4cf3-84a2-dbf9ac4ff589"
      },
      "source": [
        "R = np.subtract(A,B)\n",
        "R"
      ],
      "execution_count": 98,
      "outputs": [
        {
          "output_type": "execute_result",
          "data": {
            "text/plain": [
              "array([2, 8])"
            ]
          },
          "metadata": {},
          "execution_count": 98
        }
      ]
    },
    {
      "cell_type": "code",
      "metadata": {
        "colab": {
          "base_uri": "https://localhost:8080/"
        },
        "id": "eiLZTtj9INri",
        "outputId": "b191c7b8-8322-4aee-f77e-2893926c2e4f"
      },
      "source": [
        "#You will substract the components of addend2 from addend1 : addentd - addend2\n",
        "difference = addend1 - addend2\n",
        "difference"
      ],
      "execution_count": 99,
      "outputs": [
        {
          "output_type": "execute_result",
          "data": {
            "text/plain": [
              "array([-1, -1,  0])"
            ]
          },
          "metadata": {},
          "execution_count": 99
        }
      ]
    },
    {
      "cell_type": "code",
      "metadata": {
        "colab": {
          "base_uri": "https://localhost:8080/"
        },
        "id": "2q7Pm4jjIvZS",
        "outputId": "c246fed8-bff9-455b-c420-42b23662a7f9"
      },
      "source": [
        "difference2 = np.subtract(addend1,addend2)\n",
        "difference2"
      ],
      "execution_count": 100,
      "outputs": [
        {
          "output_type": "execute_result",
          "data": {
            "text/plain": [
              "array([-1, -1,  0])"
            ]
          },
          "metadata": {},
          "execution_count": 100
        }
      ]
    },
    {
      "cell_type": "markdown",
      "metadata": {
        "id": "xwY24SwmJojB"
      },
      "source": [
        "# **Scaling**"
      ]
    },
    {
      "cell_type": "code",
      "metadata": {
        "colab": {
          "base_uri": "https://localhost:8080/"
        },
        "id": "LDGsx-YHJdWR",
        "outputId": "053eccc5-7777-4767-f6ca-d9699000b455"
      },
      "source": [
        "A = np.array([1,5,8,9])\n",
        "S = 5*A\n",
        "S"
      ],
      "execution_count": 101,
      "outputs": [
        {
          "output_type": "execute_result",
          "data": {
            "text/plain": [
              "array([ 5, 25, 40, 45])"
            ]
          },
          "metadata": {},
          "execution_count": 101
        }
      ]
    },
    {
      "cell_type": "code",
      "metadata": {
        "colab": {
          "base_uri": "https://localhost:8080/"
        },
        "id": "vZbpYZcfOLRQ",
        "outputId": "9eb585af-52b2-410c-c1ba-d47d6d300757"
      },
      "source": [
        "A = np.array([1,5,8,9])\n",
        "S = np.multiply(5,A)\n",
        "S"
      ],
      "execution_count": 102,
      "outputs": [
        {
          "output_type": "execute_result",
          "data": {
            "text/plain": [
              "array([ 5, 25, 40, 45])"
            ]
          },
          "metadata": {},
          "execution_count": 102
        }
      ]
    },
    {
      "cell_type": "markdown",
      "metadata": {
        "id": "440YvEqHKHf4"
      },
      "source": [
        "# **Vector Cross Product**"
      ]
    },
    {
      "cell_type": "code",
      "metadata": {
        "colab": {
          "base_uri": "https://localhost:8080/"
        },
        "id": "8i1BaV1AO_Nc",
        "outputId": "c6963057-9d73-40e0-9511-8e2e45702b6e"
      },
      "source": [
        "import numpy as np\n",
        "#initialize arrays\n",
        "\n",
        "A = np.array([2,3])\n",
        "B = np.array([1,7])\n",
        "#Compute the cross product\n",
        "#(2x7),(3,1) = (14-3) = 11\n",
        "output = np.cross(A,B)\n",
        "print(output)"
      ],
      "execution_count": 103,
      "outputs": [
        {
          "output_type": "stream",
          "name": "stdout",
          "text": [
            "11\n"
          ]
        }
      ]
    },
    {
      "cell_type": "code",
      "metadata": {
        "colab": {
          "base_uri": "https://localhost:8080/"
        },
        "id": "PtyAZO7zJslC",
        "outputId": "57508d80-48a8-4145-f384-fd2278b2b337"
      },
      "source": [
        "A = np.array([2,3])\n",
        "B = np.array([1,7])\n",
        "\n",
        "#Compute the cross product of A and B\n",
        "cross = np.cross(A,B)\n",
        "print(cross)"
      ],
      "execution_count": 104,
      "outputs": [
        {
          "output_type": "stream",
          "name": "stdout",
          "text": [
            "11\n"
          ]
        }
      ]
    },
    {
      "cell_type": "code",
      "metadata": {
        "colab": {
          "base_uri": "https://localhost:8080/"
        },
        "id": "JcZS_a_iKQHQ",
        "outputId": "bfb1bf90-e6b1-4692-da21-99e3dc2a6ac0"
      },
      "source": [
        "A = np.array([2,3,4])\n",
        "B = np.array([1,7,0])\n",
        "\n",
        "#Compute the cross product of A and B\n",
        "cross = np.cross(A,B)\n",
        "print(cross)"
      ],
      "execution_count": 105,
      "outputs": [
        {
          "output_type": "stream",
          "name": "stdout",
          "text": [
            "[-28   4  11]\n"
          ]
        }
      ]
    },
    {
      "cell_type": "code",
      "metadata": {
        "colab": {
          "base_uri": "https://localhost:8080/"
        },
        "id": "HXIgkwUYQfDC",
        "outputId": "6425bc64-14f9-495c-ad40-b5b5c7f39035"
      },
      "source": [
        "output = np.dot(A,B) #comput the dot product\n",
        "print(output) #(2x1) = 2 (3x7)= 21 (4x0)= 0"
      ],
      "execution_count": 106,
      "outputs": [
        {
          "output_type": "stream",
          "name": "stdout",
          "text": [
            "23\n"
          ]
        }
      ]
    },
    {
      "cell_type": "code",
      "metadata": {
        "colab": {
          "base_uri": "https://localhost:8080/"
        },
        "id": "w4dQgwjsQ9Xi",
        "outputId": "56f50cb7-3b92-4806-9bcd-51de45c341d7"
      },
      "source": [
        "A = np.array([2,7])\n",
        "B = np.array([1,7])\n",
        "\n",
        "output = np.cross(A,B)\n",
        "print(output)"
      ],
      "execution_count": 107,
      "outputs": [
        {
          "output_type": "stream",
          "name": "stdout",
          "text": [
            "7\n"
          ]
        }
      ]
    },
    {
      "cell_type": "code",
      "metadata": {
        "colab": {
          "base_uri": "https://localhost:8080/"
        },
        "id": "y4t5CLobRGoA",
        "outputId": "124e4d8c-cfa7-43cd-8d40-5a74a65ce016"
      },
      "source": [
        "output = np.dot(A,B) #compute the dot product\n",
        "print(output)"
      ],
      "execution_count": 108,
      "outputs": [
        {
          "output_type": "stream",
          "name": "stdout",
          "text": [
            "51\n"
          ]
        }
      ]
    },
    {
      "cell_type": "code",
      "metadata": {
        "colab": {
          "base_uri": "https://localhost:8080/"
        },
        "id": "uR6wyh-0Kx2x",
        "outputId": "ee6cb32a-2721-43bf-8b80-eb1c845c4fa8"
      },
      "source": [
        "import numpy as np\n",
        "A = np.array([2,3])\n",
        "B = np.array([1,7])\n",
        "\n",
        "#Compute the dot product of A and B\n",
        "dot = np.dot(A,B)\n",
        "print(dot)"
      ],
      "execution_count": 109,
      "outputs": [
        {
          "output_type": "stream",
          "name": "stdout",
          "text": [
            "23\n"
          ]
        }
      ]
    }
  ]
}