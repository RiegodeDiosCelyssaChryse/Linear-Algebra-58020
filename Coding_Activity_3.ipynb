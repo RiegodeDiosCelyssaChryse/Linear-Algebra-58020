{
  "nbformat": 4,
  "nbformat_minor": 0,
  "metadata": {
    "colab": {
      "name": "Coding Activity 3.ipynb",
      "provenance": [],
      "authorship_tag": "ABX9TyOCeBvJrk0WyjCgKBy/dnvH",
      "include_colab_link": true
    },
    "kernelspec": {
      "name": "python3",
      "display_name": "Python 3"
    },
    "language_info": {
      "name": "python"
    }
  },
  "cells": [
    {
      "cell_type": "markdown",
      "metadata": {
        "id": "view-in-github",
        "colab_type": "text"
      },
      "source": [
        "<a href=\"https://colab.research.google.com/github/itsmecelyssa/Linear-Algebra-58020/blob/main/Coding_Activity_3.ipynb\" target=\"_parent\"><img src=\"https://colab.research.google.com/assets/colab-badge.svg\" alt=\"Open In Colab\"/></a>"
      ]
    },
    {
      "cell_type": "markdown",
      "metadata": {
        "id": "EwCQDinzo9as"
      },
      "source": [
        "##**Python Program to Inverse a 3x3 (Matrix A)**"
      ]
    },
    {
      "cell_type": "code",
      "metadata": {
        "colab": {
          "base_uri": "https://localhost:8080/"
        },
        "id": "arIm1KLdo6fU",
        "outputId": "de049fdb-6e56-4a42-b080-7b6f3759df48"
      },
      "source": [
        "#Matrix A = ([[6,1,1],[4,-2,5],[2,8,7]])\n",
        "import numpy as np\n",
        "A = np.array([[6,1,1],[4,-2,5],[2,8,7]]) #I copied the professor given on 3x3 matrix. I tried to change it to 1-9 but the output became error.\n",
        "print(A,\"\\n\") #It will show the components of Matrix A or the particular code cell\n",
        "B = np.linalg.inv(A)\n",
        "print(B)"
      ],
      "execution_count": 26,
      "outputs": [
        {
          "output_type": "stream",
          "name": "stdout",
          "text": [
            "[[ 6  1  1]\n",
            " [ 4 -2  5]\n",
            " [ 2  8  7]] \n",
            "\n",
            "[[ 0.17647059 -0.00326797 -0.02287582]\n",
            " [ 0.05882353 -0.13071895  0.08496732]\n",
            " [-0.11764706  0.1503268   0.05228758]]\n"
          ]
        }
      ]
    },
    {
      "cell_type": "markdown",
      "metadata": {
        "id": "KoBFp_2npXYk"
      },
      "source": [
        "##**Python Program to Transpose a 3x3 (Matrix A)**"
      ]
    },
    {
      "cell_type": "code",
      "metadata": {
        "colab": {
          "base_uri": "https://localhost:8080/"
        },
        "id": "nt8qK4xWprMr",
        "outputId": "fa9d45fd-666a-4924-bfcc-c68a139c7342"
      },
      "source": [
        "A = np.array([[6,1,1],[4,-2,5],[2,8,7]])\n",
        "print(A,\"\\n\")\n",
        "B = np.transpose(A)\n",
        "print(B)"
      ],
      "execution_count": 27,
      "outputs": [
        {
          "output_type": "stream",
          "name": "stdout",
          "text": [
            "[[ 6  1  1]\n",
            " [ 4 -2  5]\n",
            " [ 2  8  7]] \n",
            "\n",
            "[[ 6  4  2]\n",
            " [ 1 -2  8]\n",
            " [ 1  5  7]]\n"
          ]
        }
      ]
    },
    {
      "cell_type": "markdown",
      "metadata": {
        "id": "pUkAAqq3qxgk"
      },
      "source": [
        "##**Python Program to Inverse a 4x4 (Matrix B)**"
      ]
    },
    {
      "cell_type": "code",
      "metadata": {
        "colab": {
          "base_uri": "https://localhost:8080/"
        },
        "id": "_o_LwaWgq3PM",
        "outputId": "5b3c972d-124a-42f9-b6da-c8d2f9f2f4a9"
      },
      "source": [
        "#Matrix B = ([[6,1,1,4],[4,-2,5,-3],[2,8,7,6],[-1,9,5,2]])\n",
        "import numpy as np\n",
        "B = np.array([[6,1,1,4],[4,-2,5,-3],[2,8,7,6],[-1,9,5,2]])\n",
        "print(B,\"\\n\") #It will show the components of Matrix B or the particular code cell\n",
        "C = np.linalg.inv(A)\n",
        "print(C)"
      ],
      "execution_count": 30,
      "outputs": [
        {
          "output_type": "stream",
          "name": "stdout",
          "text": [
            "[[ 6  1  1  4]\n",
            " [ 4 -2  5 -3]\n",
            " [ 2  8  7  6]\n",
            " [-1  9  5  2]] \n",
            "\n",
            "[[ 0.2059448   0.04953999 -0.15428167  0.12526539]\n",
            " [ 0.11677282 -0.02689314 -0.17338995  0.2462845 ]\n",
            " [-0.14861996  0.09483369  0.19037509 -0.13163482]\n",
            " [-0.05095541 -0.09129512  0.22717622 -0.21656051]]\n"
          ]
        }
      ]
    },
    {
      "cell_type": "markdown",
      "metadata": {
        "id": "lj-_jQ4ir0ld"
      },
      "source": [
        "##**Python Program to Transpose a 4x4 (Matrix B)**"
      ]
    },
    {
      "cell_type": "code",
      "metadata": {
        "colab": {
          "base_uri": "https://localhost:8080/"
        },
        "id": "RIn9_sfWraY0",
        "outputId": "c10875fb-5530-4ecd-a25d-ab2703453e34"
      },
      "source": [
        "B = np.array([[6,1,1,4],[4,-2,5,-3],[2,8,7,6],[-1,9,5,2]])\n",
        "print(B,\"\\n\")\n",
        "C = np.transpose(B)\n",
        "print(C)"
      ],
      "execution_count": 31,
      "outputs": [
        {
          "output_type": "stream",
          "name": "stdout",
          "text": [
            "[[ 6  1  1  4]\n",
            " [ 4 -2  5 -3]\n",
            " [ 2  8  7  6]\n",
            " [-1  9  5  2]] \n",
            "\n",
            "[[ 6  4  2 -1]\n",
            " [ 1 -2  8  9]\n",
            " [ 1  5  7  5]\n",
            " [ 4 -3  6  2]]\n"
          ]
        }
      ]
    }
  ]
}